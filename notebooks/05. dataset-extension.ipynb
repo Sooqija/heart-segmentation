{
 "cells": [
  {
   "cell_type": "code",
   "execution_count": 160,
   "metadata": {},
   "outputs": [],
   "source": [
    "import os\n",
    "\n",
    "import numpy as np\n",
    "from PIL import Image\n",
    "\n",
    "from tqdm.notebook import tqdm\n",
    "import scipy.ndimage\n",
    "\n",
    "from heart_seg_app.utils.config import save_config\n",
    "from heart_seg_app.utils.dataset import split_dataset\n",
    "\n",
    "\n",
    "dataset = {\n",
    "    \"sources\": [],\n",
    "    \"size\": 0,\n",
    "    \"train\": [],\n",
    "    \"val\": [],\n",
    "    \"test\" : [],\n",
    "}\n",
    "\n",
    "ROOT_DIR = \"/home/cayetana/Storage/code/cayetana-best/heart-segmentation\"\n",
    "DATASET_PATH = \"data/CT_HD_united_lamiax\"\n",
    "os.chdir(ROOT_DIR)"
   ]
  },
  {
   "cell_type": "markdown",
   "metadata": {},
   "source": [
    "# Uniting Datasets"
   ]
  },
  {
   "cell_type": "markdown",
   "metadata": {},
   "source": [
    "## Preparing Dataset\n",
    "\n",
    "`CT Heart Dataset`"
   ]
  },
  {
   "cell_type": "code",
   "execution_count": 161,
   "metadata": {},
   "outputs": [],
   "source": [
    "DATA_PATH = \"data/datasets/CT_HD_25_nikhilroxtomar/train\"\n",
    "\n",
    "dataset[\"sources\"].append(\"https://www.kaggle.com/datasets/nikhilroxtomar/ct-heart-segmentation\")"
   ]
  },
  {
   "cell_type": "code",
   "execution_count": 162,
   "metadata": {},
   "outputs": [
    {
     "data": {
      "application/vnd.jupyter.widget-view+json": {
       "model_id": "864aa869fd7543be860e9b4943c90737",
       "version_major": 2,
       "version_minor": 0
      },
      "text/plain": [
       "  0%|          | 0/19 [00:00<?, ?it/s]"
      ]
     },
     "metadata": {},
     "output_type": "display_data"
    }
   ],
   "source": [
    "# - CT_HD_25_nikhilroxtomar/\n",
    "# - - train/ < - DATA_PATH\n",
    "# - - - idx_0/\n",
    "# - - - - image/\n",
    "# - - - - - image_0.png\n",
    "# - - - - ...\n",
    "# - - - - idx_1/\n",
    "# - - - - - image_0.png\n",
    "# - - - - ...\n",
    "\n",
    "def zoom(image : np.ndarray, target_shape=(256.0, 256.0, 128.0), order=3):\n",
    "    scales = [ts / s for s, ts in zip(image.shape, target_shape)]\n",
    "    scaled_image = scipy.ndimage.zoom(image, scales, mode=\"reflect\", order=order)\n",
    "    # print(f\"source_shape: {image.shape}\", f\"target_shape:{scaled_image.shape}\")\n",
    "    \n",
    "    return scaled_image\n",
    "\n",
    "def convert_png_to_numpy(paths_to_png_files):\n",
    "    width, height = Image.open(paths_to_png_files[0]).size\n",
    "    depth = len(paths_to_png_files)\n",
    "    volume = np.zeros((width, height, depth))\n",
    "    \n",
    "    for i, png_file in enumerate(paths_to_png_files):\n",
    "        image = Image.open(png_file)\n",
    "        volume[:,:,i] = np.array(image)\n",
    "    \n",
    "    volume = volume / 255.0\n",
    "    \n",
    "    return volume\n",
    "\n",
    "data = []\n",
    "target_shape = (128.0, 128.0, 128.0)\n",
    "\n",
    "for idx in tqdm(sorted(os.listdir(DATA_PATH))):\n",
    "    image_path_png = os.path.join(DATA_PATH, idx, \"image\")\n",
    "    label_path_png = os.path.join(DATA_PATH, idx, \"mask\")\n",
    "    \n",
    "    image_png = [os.path.join(image_path_png, path) for path in sorted(os.listdir(image_path_png))]\n",
    "    label_png = [os.path.join(label_path_png, path) for path in sorted(os.listdir(label_path_png))]\n",
    "    \n",
    "    # image = convert_png_to_numpy(image_png)\n",
    "    label = convert_png_to_numpy(label_png)\n",
    "    \n",
    "    # image = zoom(image, target_shape, order=3)\n",
    "    label = zoom(label, target_shape, order=0)\n",
    "    \n",
    "    image_path = os.path.join(DATASET_PATH, f\"ct_nikhilroxtomar_{idx}_image.npy\")\n",
    "    label_path = os.path.join(DATASET_PATH, f\"ct_nikhilroxtomar_{idx}_label.npy\")\n",
    "    \n",
    "    # np.save(image_path, image)\n",
    "    np.save(label_path, label)\n",
    "    \n",
    "    data.append({\"image\": image_path,\n",
    "                \"label\": label_path,\n",
    "                \"label_map\": {\n",
    "                    \"background\": {\"color\": \"black\", \"value\": [0.0]},\n",
    "                    \"left ventricle\": {\"color\": \"yellow\", \"value\": []},\n",
    "                    \"right ventricle\": {\"color\": \"skyblue\", \"value\": []},\n",
    "                    \"left atrium\": {\"color\": \"red\", \"value\": []},\n",
    "                    \"right atrium\": {\"color\": \"purple\", \"value\": []},\n",
    "                    \"myocarium\": {\"color\": \"blue\", \"value\": []},\n",
    "                    \"aorta\": {\"color\": \"orange\", \"value\": []},\n",
    "                    \"pulmonary artery\": {\"color\": \"green\", \"value\": []},\n",
    "                    \"whole heart\": { \"color\": \"white\", \"value\": [1.0] }, # [1.0, 2.0, 3.0, 4.0, 5.0, 6.0, 7.0] \n",
    "                }\n",
    "    })"
   ]
  },
  {
   "cell_type": "code",
   "execution_count": 163,
   "metadata": {},
   "outputs": [],
   "source": [
    "split_ratios = (0.75, 0.2, 0.05)\n",
    "seed = 0\n",
    "\n",
    "splited_dataset = split_dataset(data, split_ratios=split_ratios, seed=seed)\n",
    "\n",
    "dataset[\"train\"] += splited_dataset[\"train\"]\n",
    "dataset[\"val\"] += splited_dataset[\"val\"]\n",
    "dataset[\"test\"] += splited_dataset[\"test\"]\n",
    "dataset[\"size\"] += len(data)\n",
    "\n",
    "save_config(dataset, os.path.join(DATASET_PATH, \"dataset.json\"))"
   ]
  },
  {
   "cell_type": "markdown",
   "metadata": {},
   "source": [
    "## Preparing Dataset\n",
    "\n",
    "`CHD68_segmentation_dataset_miccai19`"
   ]
  },
  {
   "cell_type": "code",
   "execution_count": 164,
   "metadata": {},
   "outputs": [],
   "source": [
    "DATA_PATH = \"data/datasets/CHD68_segmentation_dataset_miccai19\"\n",
    "\n",
    "dataset[\"sources\"].append(\"https://www.kaggle.com/datasets/xiaoweixumedicalai/chd68-segmentation-dataset-miccai19\")"
   ]
  },
  {
   "cell_type": "code",
   "execution_count": 165,
   "metadata": {},
   "outputs": [
    {
     "data": {
      "application/vnd.jupyter.widget-view+json": {
       "model_id": "f5ff797ce8c7450d9beb7ecff1e4a736",
       "version_major": 2,
       "version_minor": 0
      },
      "text/plain": [
       "  0%|          | 0/409 [00:00<?, ?it/s]"
      ]
     },
     "metadata": {},
     "output_type": "display_data"
    }
   ],
   "source": [
    "# CHD68_segmentation_dataset_miccai19/ < - DATA_PATH\n",
    "# - ct_1001_image.nii.gz\n",
    "# - ct_1002_image.nii.gz\n",
    "# - ...\n",
    "\n",
    "import os\n",
    "import numpy as np\n",
    "import nibabel as nib\n",
    "import re\n",
    "from tqdm.notebook import tqdm\n",
    "\n",
    "data = []\n",
    "target_shape = (128.0, 128.0, 128.0)\n",
    "\n",
    "image_paths, label_paths = [], []\n",
    "\n",
    "for path in tqdm(sorted(os.listdir(DATA_PATH))):\n",
    "    if path.endswith(\"_image.nii.gz\"):\n",
    "        # image : nib.Nifti1Image = nib.load(os.path.join(DATA_PATH, path))\n",
    "        # image = image.get_fdata()\n",
    "        # image = zoom(image, target_shape=target_shape, order=3)\n",
    "        \n",
    "        match = re.search(r'\\d+', path); idx = match.group()\n",
    "        image_path = os.path.join(DATASET_PATH, f\"ct_xiaoweixumedicalai_{idx}_image.npy\")\n",
    "        image_paths.append(image_path)\n",
    "        \n",
    "        # np.save(image_path, image)\n",
    "    \n",
    "    if path.endswith(\"label.nii.gz\"):\n",
    "        # label : nib.Nifti1Image = nib.load(os.path.join(DATA_PATH, path))\n",
    "        # label = label.get_fdata()\n",
    "        # label = zoom(label, target_shape=target_shape, order=0)\n",
    "        \n",
    "        match = re.search(r'\\d+', path); idx = match.group()\n",
    "        label_path = os.path.join(DATASET_PATH, f\"ct_xiaoweixumedicalai_{idx}_label.npy\")\n",
    "        label_paths.append(label_path)\n",
    "        \n",
    "        # np.save(label_path, label)\n",
    "    \n",
    "for image_path, label_path in zip(image_paths, label_paths):\n",
    "    data.append({\"image\": image_path,\n",
    "                            \"label\": label_path,\n",
    "                            \"label_map\": {\n",
    "                                \"background\": {\"color\": \"black\", \"value\": [0.0]},\n",
    "                                \"left ventricle\": {\"color\": \"yellow\", \"value\": [1.0]},\n",
    "                                \"right ventricle\": {\"color\": \"skyblue\", \"value\": [2.0]},\n",
    "                                \"left atrium\": {\"color\": \"red\", \"value\": [3.0]},\n",
    "                                \"right atrium\": {\"color\": \"purple\", \"value\": [4.0]},\n",
    "                                \"myocarium\": {\"color\": \"blue\", \"value\": [5.0]},\n",
    "                                \"aorta\": {\"color\": \"orange\", \"value\": [6.0]},\n",
    "                                \"pulmonary artery\": {\"color\": \"green\", \"value\": [7.0]},\n",
    "                                \"whole heart\": { \"color\": \"white\", \"value\": [1.0, 2.0, 3.0, 4.0, 5.0] },\n",
    "                            }})\n",
    " \n",
    "# from heart_seg_app.utils.config import save_config   \n",
    "# save_config(dataset, os.path.join(TARGET_PATH, \"dataset.json\"))"
   ]
  },
  {
   "cell_type": "code",
   "execution_count": 166,
   "metadata": {},
   "outputs": [],
   "source": [
    "from heart_seg_app.utils.dataset import split_dataset\n",
    "\n",
    "split_ratios = (0.75, 0.2, 0.05)\n",
    "seed = 0\n",
    "\n",
    "splited_dataset = split_dataset(data, split_ratios=split_ratios, seed=seed)\n",
    "\n",
    "dataset[\"train\"] += splited_dataset[\"train\"]\n",
    "dataset[\"val\"] += splited_dataset[\"val\"]\n",
    "dataset[\"test\"] += splited_dataset[\"test\"]\n",
    "dataset[\"size\"] += len(data)\n",
    "\n",
    "save_config(dataset, os.path.join(DATASET_PATH, \"dataset.json\"))"
   ]
  },
  {
   "cell_type": "markdown",
   "metadata": {},
   "source": [
    "## Train Models"
   ]
  },
  {
   "cell_type": "code",
   "execution_count": 197,
   "metadata": {},
   "outputs": [
    {
     "data": {
      "text/plain": [
       "{'background': {'color': 'black', 'value': [0.0]},\n",
       " 'left ventricle': {'color': 'yellow', 'value': []},\n",
       " 'right ventricle': {'color': 'skyblue', 'value': []},\n",
       " 'left atrium': {'color': 'red', 'value': []},\n",
       " 'right atrium': {'color': 'purple', 'value': []},\n",
       " 'myocarium': {'color': 'blue', 'value': []},\n",
       " 'aorta': {'color': 'orange', 'value': []},\n",
       " 'pulmonary artery': {'color': 'green', 'value': []},\n",
       " 'whole heart': {'color': 'white', 'value': [1.0]}}"
      ]
     },
     "execution_count": 197,
     "metadata": {},
     "output_type": "execute_result"
    }
   ],
   "source": [
    "import os\n",
    "from heart_seg_app.utils.config import load_config\n",
    "\n",
    "ROOT_DIR = \"/home/cayetana/Storage/code/cayetana-best/heart-segmentation\"\n",
    "DATASET_PATH = \"data/CT_HD_united_lamiax\"\n",
    "os.chdir(ROOT_DIR)\n",
    "\n",
    "dataset = load_config(os.path.join(DATASET_PATH, \"dataset.json\"))\n",
    "\n",
    "dataset[\"train\"][0][\"label_map\"]"
   ]
  },
  {
   "cell_type": "code",
   "execution_count": 198,
   "metadata": {},
   "outputs": [],
   "source": [
    "from monai.transforms import (\n",
    "    Compose, LoadImaged, EnsureChannelFirstd, EnsureTyped, MapTransform,\n",
    "    Spacingd, NormalizeIntensityd\n",
    ")\n",
    "from monai.data import Dataset, NumpyReader, DataLoader\n",
    "import torch\n",
    "\n",
    "class ToOneHotd(MapTransform):\n",
    "    def __init__(self, keys):\n",
    "        super().__init__(keys)\n",
    "        # self.class_count = class_count\n",
    "\n",
    "    def __call__(self, data):\n",
    "        d = dict(data)\n",
    "        for key in self.keys:\n",
    "            label = d[key]\n",
    "            processed_label = torch.zeros((9, *label.shape), dtype=torch.float32)\n",
    "            for i, meta_data in enumerate(d[\"label_map\"].values()):\n",
    "                value = meta_data[\"value\"]\n",
    "                # processed_label[i] = torch.where(label == value, 1.0, 0.0)\n",
    "                for v in value:\n",
    "                    processed_label[i] = torch.logical_or(processed_label[i], torch.where(label == v, 1.0, 0.0))\n",
    "            d[key] = processed_label\n",
    "        \n",
    "        return d\n",
    "\n",
    "\n",
    "val_transforms = Compose([\n",
    "    LoadImaged(keys=[\"image\", \"label\"], reader=NumpyReader),\n",
    "    EnsureChannelFirstd(keys=[\"image\"]),\n",
    "    EnsureTyped(keys=[\"image\", \"label\"]),\n",
    "    ToOneHotd(keys=[\"label\"]),\n",
    "    Spacingd(keys=[\"image\", \"label\"], pixdim=(1.0, 1.0, 1.0), mode=(\"bilinear\", \"nearest\")),\n",
    "    NormalizeIntensityd(keys=[\"image\"], channel_wise=True),   \n",
    "])\n",
    "\n",
    "val_dataset = Dataset(dataset[\"val\"], transform=val_transforms)\n",
    "val_dataloader = DataLoader(val_dataset, batch_size=1, shuffle=True)"
   ]
  },
  {
   "cell_type": "markdown",
   "metadata": {},
   "source": [
    "## Training Loop"
   ]
  },
  {
   "cell_type": "code",
   "execution_count": 199,
   "metadata": {},
   "outputs": [],
   "source": [
    "from monai.losses import DiceLoss\n",
    "from tqdm.notebook import tqdm\n",
    "\n",
    "class PerChannelDiceLoss(torch.nn.Module):\n",
    "    def __init__ (self, **kwargs):\n",
    "        super().__init__()\n",
    "        self.dice_loss = DiceLoss(**kwargs)\n",
    "        \n",
    "    def forward(self, predictions, targets, mask):\n",
    "        channels = predictions.shape[1]\n",
    "        \n",
    "        losses = []\n",
    "        \n",
    "        for c in range(channels):\n",
    "            if mask[c]:\n",
    "                pred_c = predictions[:, c:c+1, ...]\n",
    "                target_c = targets[:, c:c+1, ...]\n",
    "                \n",
    "                loss_c = self.dice_loss(pred_c, target_c)\n",
    "                losses.append(loss_c)\n",
    "                \n",
    "        return sum(losses) / len(losses)\n",
    "\n",
    "from monai.networks.nets import UNETR\n",
    "\n",
    "def create_active_classes_mask(label_map : dict):\n",
    "    active_classes_mask = torch.zeros(len(label_map.keys()))\n",
    "\n",
    "    for i, class_meta in enumerate(label_map.values()):\n",
    "        if len(class_meta[\"value\"]):\n",
    "            active_classes_mask[i] = 1\n",
    "            \n",
    "    return active_classes_mask\n",
    "\n",
    "device = torch.device(\"cuda\" if torch.cuda.is_available() else \"cpu\")\n",
    "\n",
    "model = UNETR(\n",
    "    in_channels=1,\n",
    "    out_channels=9,\n",
    "    img_size=(128, 128, 128),\n",
    "    feature_size=16,\n",
    "    hidden_size=768,\n",
    "    mlp_dim=3072,\n",
    "    num_heads=12,\n",
    "    proj_type=\"perceptron\",\n",
    "    norm_name=\"instance\",\n",
    "    res_block=True,\n",
    "    dropout_rate=0.0,\n",
    ")\n",
    "model = model.to(device)\n",
    "model.train()\n",
    "\n",
    "# loss_function = MaskedDiceLoss(smooth_nr=0, smooth_dr=1e-5, squared_pred=True, sigmoid=True)\n",
    "loss_function = PerChannelDiceLoss(smooth_nr=0, smooth_dr=1e-5, squared_pred=True, sigmoid=True)\n",
    "optimizer = torch.optim.AdamW(model.parameters())"
   ]
  },
  {
   "cell_type": "code",
   "execution_count": 211,
   "metadata": {},
   "outputs": [],
   "source": [
    "import matplotlib.colors\n",
    "import matplotlib.pyplot as plt\n",
    "from torchvision.utils import make_grid\n",
    "\n",
    "import numpy as np\n",
    "from PIL import Image\n",
    "\n",
    "def create_custom_cmap(label_map : dict):\n",
    "    pixel_values = [value[\"value\"][0].item() if len(value[\"value\"]) else 0.0 for value in label_map.values()] # tensors\n",
    "    colors = [value[\"color\"][0] for value in label_map.values()]\n",
    "    mid_bounds = [(pixel_values[i] + pixel_values[i+1]) / 2 for i in range(len(pixel_values)-1)]\n",
    "    if len(mid_bounds) >= 2:\n",
    "        custom_cmap = matplotlib.colors.ListedColormap(list(colors)[1:], N=len(colors)).with_extremes(under='black', over='green')\n",
    "        norm = matplotlib.colors.BoundaryNorm(mid_bounds, custom_cmap.N - 2)\n",
    "    else:\n",
    "        custom_cmap = matplotlib.colors.ListedColormap(list(colors), N=len(colors)).with_extremes(under='black', over='white')\n",
    "        norm = None\n",
    "    return custom_cmap, norm\n",
    "\n",
    "def apply_cmap_to_tensor(tensor : torch.Tensor, cmap : matplotlib.colors.Colormap, norm : matplotlib.colors.Normalize = None):\n",
    "    if norm is not None:\n",
    "        tensor = norm(tensor)\n",
    "    tensor = cmap(tensor).astype(np.float32) # it converts tensor to numpy rgba image with hwc format\n",
    "    tensor = torch.from_numpy(tensor)\n",
    "    tensor = tensor[:,:,:3] # delete alpha channel\n",
    "    tensor = tensor.permute(2, 0, 1) # hwc -> chw\n",
    "    \n",
    "    return tensor\n",
    "    \n",
    "\n",
    "def make_grid_image(mode : str, image : torch.Tensor, label : torch.Tensor, prediction : torch.Tensor, label_map : dict, idx):\n",
    "        bone_cmap = plt.get_cmap(\"bone\")\n",
    "        whs_label_map = dict(list(label_map.items())[:8])\n",
    "        whs_cmap, whs_norm = create_custom_cmap(whs_label_map)\n",
    "        heart_label_map = dict(list(label_map.items())[:1] + list(label_map.items())[8:])\n",
    "        heart_cmap, heart_norm = create_custom_cmap(heart_label_map)\n",
    "\n",
    "        image = image.squeeze().cpu() # delete batch\n",
    "        image = apply_cmap_to_tensor(image[:,:,idx].T, bone_cmap)\n",
    "        \n",
    "        whs_label = label.as_tensor()[:8].squeeze().cpu() # delete batch\n",
    "        whs_label = torch.argmax(whs_label, dim=0)\n",
    "        whs_label = apply_cmap_to_tensor(whs_label[:,:,idx].T, whs_cmap, whs_norm)\n",
    "        \n",
    "        heart_label = label.as_tensor()[8:].squeeze().cpu() # delete batch\n",
    "        heart_label = apply_cmap_to_tensor(heart_label[:,:,idx].T, heart_cmap, heart_norm)\n",
    "        \n",
    "        whs_pred = prediction[:8].squeeze().float().cpu() # delete batch\n",
    "        whs_pred = torch.sigmoid(whs_pred).argmax(dim=0)\n",
    "        whs_pred = apply_cmap_to_tensor(whs_pred[:,:,idx].T, whs_cmap, whs_norm)\n",
    "\n",
    "        heart_pred = prediction[8:].squeeze().float().cpu() # delete batch\n",
    "        heart_pred = apply_cmap_to_tensor(heart_pred[:,:,idx].T, heart_cmap, heart_norm)\n",
    "        \n",
    "        img_grid = make_grid([image, whs_label, heart_label, whs_pred, heart_pred])\n",
    "        if mode == \"tensorboard\":\n",
    "            return img_grid\n",
    "        if mode == \"eval\":\n",
    "            img_grid = Image.fromarray((img_grid.permute(1, 2, 0).numpy() * 255).astype(\"uint8\"))\n",
    "        \n",
    "        return img_grid"
   ]
  },
  {
   "cell_type": "code",
   "execution_count": 214,
   "metadata": {},
   "outputs": [
    {
     "data": {
      "application/vnd.jupyter.widget-view+json": {
       "model_id": "4488aab6efe8446c8236b6a7c3d60d30",
       "version_major": 2,
       "version_minor": 0
      },
      "text/plain": [
       "  0%|          | 0/16 [00:00<?, ?it/s]"
      ]
     },
     "metadata": {},
     "output_type": "display_data"
    },
    {
     "data": {
      "application/vnd.jupyter.widget-view+json": {
       "model_id": "9738abf368ce4a0594b0c0d3c41c9764",
       "version_major": 2,
       "version_minor": 0
      },
      "text/plain": [
       "  0%|          | 0/16 [00:00<?, ?it/s]"
      ]
     },
     "metadata": {},
     "output_type": "display_data"
    },
    {
     "name": "stdout",
     "output_type": "stream",
     "text": [
      "1/1: train_loss=0.48155, train_mean_dice=0.22984 by classes:  ['0.98208', '0.010788', '0.0070426', '0.13787', '0.0', '0.32496', '0.00010905', '6.1687e-05', '0.60561']\n",
      "1/1: val_loss=7.5257, val_mean_dice=0.22655 by classes:  ['0.9827', '0.00012953', '0.0049765', '0.092273', '0.0', '0.28133', '3.2147e-05', '4.175e-05', '0.67748']\n"
     ]
    },
    {
     "data": {
      "image/png": "[encoded data removed]",
      "text/plain": [
       "<Figure size 640x480 with 1 Axes>"
      ]
     },
     "metadata": {},
     "output_type": "display_data"
    }
   ],
   "source": [
    "from heart_seg_app.utils.metrics import Metrics\n",
    "\n",
    "def label_postprocessing(label: torch.Tensor, label_map : dict):\n",
    "    label = torch.softmax(label[:8], dim=1).argmax(dim=1).squeeze(0)\n",
    "    label_values = list(range(len(label_map.keys())))\n",
    "    processed_label = torch.zeros(size=(len(label_values), *label.shape), dtype=torch.int32, device=\"cuda\")\n",
    "    for i, value in enumerate(label_values):\n",
    "        processed_label[i] = torch.where(label == value, 1, 0)\n",
    "\n",
    "    return processed_label\n",
    "\n",
    "epochs = 1\n",
    "for epoch in range(epochs):\n",
    "    model.train()\n",
    "    train_loss = 0\n",
    "    train_mean_dice = 0\n",
    "    train_mean_dice_by_classes = torch.zeros(9, device=device)\n",
    "    for batch in tqdm(val_dataloader):\n",
    "        inputs, targets = batch[\"image\"].to(device), batch[\"label\"].to(device)\n",
    "        outputs = model(inputs)\n",
    "        loss_mask = create_active_classes_mask(batch[\"label_map\"])\n",
    "        loss = loss_function(outputs, targets, mask=loss_mask)\n",
    "        loss.backward()\n",
    "        train_loss += loss.item()\n",
    "        optimizer.step()\n",
    "        optimizer.zero_grad()\n",
    "        \n",
    "        outputs = label_postprocessing(outputs, batch[\"label_map\"])\n",
    "        targets = targets.int().squeeze(0)\n",
    "        \n",
    "        metrics = Metrics(outputs, targets)\n",
    "        mean_dice = metrics.meanDice().item()\n",
    "        dice_by_classes = metrics.Dice()\n",
    "        train_mean_dice += mean_dice\n",
    "        train_mean_dice_by_classes += dice_by_classes\n",
    "        \n",
    "    train_loss /= len(val_dataloader)\n",
    "    train_mean_dice /= len(val_dataloader)\n",
    "    train_mean_dice_by_classes /= len(val_dataloader)\n",
    "    \n",
    "    \n",
    "    with torch.no_grad():\n",
    "        model.eval()\n",
    "        val_loss = 0\n",
    "        val_mean_dice = 0\n",
    "        val_mean_dice_by_classes = torch.zeros(9, device=device)\n",
    "        for batch in tqdm(val_dataloader):\n",
    "            inputs, targets = batch[\"image\"].to(device), batch[\"label\"].to(device)\n",
    "            outputs = model(inputs)\n",
    "            loss_mask = create_active_classes_mask(batch[\"label_map\"])\n",
    "            loss = loss_function(outputs, targets, mask=loss_mask)  \n",
    "            val_loss += loss.item()\n",
    "            \n",
    "            outputs = label_postprocessing(outputs, batch[\"label_map\"])\n",
    "            targets = targets.int().squeeze(0)\n",
    "            \n",
    "            metrics = Metrics(outputs, targets)\n",
    "            mean_dice = metrics.meanDice().item()\n",
    "            dice_by_classes = metrics.Dice()\n",
    "            val_mean_dice += mean_dice\n",
    "            val_mean_dice_by_classes += dice_by_classes\n",
    "        val_mean_dice /= len(val_dataloader)\n",
    "        val_mean_dice_by_classes /= len(val_dataloader)\n",
    "        print(f\"{epoch+1}/{epochs}: train_loss={train_loss:.5}, train_mean_dice={train_mean_dice:.5}\",\n",
    "                \"by classes: \", [f\"{elem:.5}\" for elem in train_mean_dice_by_classes])\n",
    "        print(f\"{epoch+1}/{epochs}: val_loss={val_loss:.5}, val_mean_dice={val_mean_dice:.5}\",\n",
    "                \"by classes: \", [f\"{elem:.5}\" for elem in val_mean_dice_by_classes])\n",
    "    \n",
    "        img_grid = make_grid_image(\"eval\", inputs, targets, outputs, batch[\"label_map\"], 50)\n",
    "    plt.imshow(img_grid)"
   ]
  }
 ],
 "metadata": {
  "kernelspec": {
   "display_name": "heart-segmentation",
   "language": "python",
   "name": "python3"
  },
  "language_info": {
   "codemirror_mode": {
    "name": "ipython",
    "version": 3
   },
   "file_extension": ".py",
   "mimetype": "text/x-python",
   "name": "python",
   "nbconvert_exporter": "python",
   "pygments_lexer": "ipython3",
   "version": "3.10.0"
  }
 },
 "nbformat": 4,
 "nbformat_minor": 2
}

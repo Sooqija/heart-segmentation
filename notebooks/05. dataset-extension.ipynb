{
 "cells": [
  {
   "cell_type": "code",
   "execution_count": 1,
   "metadata": {},
   "outputs": [],
   "source": [
    "import os\n",
    "\n",
    "import numpy as np\n",
    "from PIL import Image\n",
    "\n",
    "from tqdm.notebook import tqdm\n",
    "\n",
    "dataset = {\n",
    "    \"sources\": [],\n",
    "    \"size\": 0,\n",
    "    \"train\": [],\n",
    "    \"val\": [],\n",
    "    \"test\" : [],\n",
    "}\n",
    "\n",
    "ROOT_DIR = \"/home/cayetana/Storage/code/cayetana-best/heart-segmentation\"\n",
    "DATASET_PATH = \"data/CT_HD_united_lamiax\"\n",
    "os.chdir(ROOT_DIR)"
   ]
  },
  {
   "cell_type": "markdown",
   "metadata": {},
   "source": [
    "# Uniting Datasets"
   ]
  },
  {
   "cell_type": "markdown",
   "metadata": {},
   "source": [
    "## Preparing Dataset\n",
    "\n",
    "`CT Heart Dataset`"
   ]
  },
  {
   "cell_type": "code",
   "execution_count": 2,
   "metadata": {},
   "outputs": [],
   "source": [
    "DATA_PATH = \"data/datasets/CT_HD_25_nikhilroxtomar/train\"\n",
    "\n",
    "dataset[\"sources\"].append(\"https://www.kaggle.com/datasets/nikhilroxtomar/ct-heart-segmentation\")"
   ]
  },
  {
   "cell_type": "code",
   "execution_count": 3,
   "metadata": {},
   "outputs": [
    {
     "data": {
      "application/vnd.jupyter.widget-view+json": {
       "model_id": "d09812ec76b44ca3875b86978edcd522",
       "version_major": 2,
       "version_minor": 0
      },
      "text/plain": [
       "  0%|          | 0/19 [00:00<?, ?it/s]"
      ]
     },
     "metadata": {},
     "output_type": "display_data"
    }
   ],
   "source": [
    "# - CT_HD_25_nikhilroxtomar/\n",
    "# - - train/ < - DATA_PATH\n",
    "# - - - idx_0/\n",
    "# - - - - image/\n",
    "# - - - - - image_0.png\n",
    "# - - - - ...\n",
    "# - - - - idx_1/\n",
    "# - - - - - image_0.png\n",
    "# - - - - ...\n",
    "import scipy.ndimage\n",
    "\n",
    "def zoom(image : np.ndarray, target_shape=(256.0, 256.0, 128.0), order=3):\n",
    "    scales = [ts / s for s, ts in zip(image.shape, target_shape)]\n",
    "    scaled_image = scipy.ndimage.zoom(image, scales, mode=\"reflect\", order=order)\n",
    "    # print(f\"source_shape: {image.shape}\", f\"target_shape:{scaled_image.shape}\")\n",
    "    \n",
    "    return scaled_image\n",
    "\n",
    "def convert_png_to_numpy(paths_to_png_files):\n",
    "    width, height = Image.open(paths_to_png_files[0]).size\n",
    "    depth = len(paths_to_png_files)\n",
    "    volume = np.zeros((width, height, depth))\n",
    "    \n",
    "    for i, png_file in enumerate(paths_to_png_files):\n",
    "        image = Image.open(png_file)\n",
    "        volume[:,:,i] = np.array(image)\n",
    "    \n",
    "    volume = volume / 255.0\n",
    "    \n",
    "    return volume\n",
    "\n",
    "data = []\n",
    "target_shape = (128.0, 128.0, 128.0)\n",
    "\n",
    "for idx in tqdm(sorted(os.listdir(DATA_PATH))):\n",
    "    image_path_png = os.path.join(DATA_PATH, idx, \"image\")\n",
    "    label_path_png = os.path.join(DATA_PATH, idx, \"mask\")\n",
    "    \n",
    "    image_png = [os.path.join(image_path_png, path) for path in sorted(os.listdir(image_path_png))]\n",
    "    label_png = [os.path.join(label_path_png, path) for path in sorted(os.listdir(label_path_png))]\n",
    "    \n",
    "    # image = convert_png_to_numpy(image_png)\n",
    "    # label = convert_png_to_numpy(label_png)\n",
    "    \n",
    "    # image = zoom(image, target_shape, order=3)\n",
    "    # label = zoom(label, target_shape, order=0)\n",
    "    \n",
    "    image_path = os.path.join(DATASET_PATH, f\"ct_nikhilroxtomar_{idx}_image.npy\")\n",
    "    label_path = os.path.join(DATASET_PATH, f\"ct_nikhilroxtomar_{idx}_label.npy\")\n",
    "    \n",
    "    # np.save(image_path, image)\n",
    "    # np.save(label_path, label)\n",
    "    \n",
    "    data.append({\"image\": image_path,\n",
    "                \"label\": label_path,\n",
    "                \"label_map\": {\n",
    "                    \"background\": {\"color\": \"black\", \"value\": [0.0]},\n",
    "                    \"left ventricle\": {\"color\": \"yellow\", \"value\": []},\n",
    "                    \"right ventricle\": {\"color\": \"skyblue\", \"value\": []},\n",
    "                    \"left atrium\": {\"color\": \"red\", \"value\": []},\n",
    "                    \"right atrium\": {\"color\": \"purple\", \"value\": []},\n",
    "                    \"myocarium\": {\"color\": \"blue\", \"value\": []},\n",
    "                    \"aorta\": {\"color\": \"orange\", \"value\": []},\n",
    "                    \"pulmonary artery\": {\"color\": \"green\", \"value\": []},\n",
    "                    \"whole heart\": { \"color\": \"white\", \"value\": [1.0] }, # [1.0, 2.0, 3.0, 4.0, 5.0, 6.0, 7.0] \n",
    "                }\n",
    "    })"
   ]
  },
  {
   "cell_type": "code",
   "execution_count": 4,
   "metadata": {},
   "outputs": [],
   "source": [
    "from heart_seg_app.utils.dataset import split_dataset\n",
    "from heart_seg_app.utils.config import save_config\n",
    "\n",
    "split_ratios = (0.75, 0.2, 0.05)\n",
    "seed = 0\n",
    "\n",
    "splited_dataset = split_dataset(data, split_ratios=split_ratios, seed=seed)\n",
    "\n",
    "dataset[\"train\"] += splited_dataset[\"train\"]\n",
    "dataset[\"val\"] += splited_dataset[\"val\"]\n",
    "dataset[\"test\"] += splited_dataset[\"test\"]\n",
    "dataset[\"size\"] += len(data)\n",
    "\n",
    "save_config(dataset, os.path.join(DATASET_PATH, \"dataset.json\"))"
   ]
  },
  {
   "cell_type": "markdown",
   "metadata": {},
   "source": [
    "## Preparing Dataset\n",
    "\n",
    "`CHD68_segmentation_dataset_miccai19`"
   ]
  },
  {
   "cell_type": "code",
   "execution_count": 5,
   "metadata": {},
   "outputs": [],
   "source": [
    "import os\n",
    "\n",
    "import numpy as np\n",
    "from tqdm.notebook import tqdm\n",
    "\n",
    "DATA_PATH = \"data/datasets/CHD68_segmentation_dataset_miccai19\"\n",
    "\n",
    "dataset[\"sources\"].append(\"https://www.kaggle.com/datasets/xiaoweixumedicalai/chd68-segmentation-dataset-miccai19\")"
   ]
  },
  {
   "cell_type": "code",
   "execution_count": 6,
   "metadata": {},
   "outputs": [
    {
     "data": {
      "application/vnd.jupyter.widget-view+json": {
       "model_id": "037321e3f62640f3b2dd7988c5142999",
       "version_major": 2,
       "version_minor": 0
      },
      "text/plain": [
       "  0%|          | 0/409 [00:00<?, ?it/s]"
      ]
     },
     "metadata": {},
     "output_type": "display_data"
    }
   ],
   "source": [
    "# CHD68_segmentation_dataset_miccai19/ < - DATA_PATH\n",
    "# - ct_1001_image.nii.gz\n",
    "# - ct_1002_image.nii.gz\n",
    "# - ...\n",
    "\n",
    "import re\n",
    "\n",
    "data = []\n",
    "target_shape = (128.0, 128.0, 128.0)\n",
    "\n",
    "image_paths, label_paths = [], []\n",
    "\n",
    "for path in tqdm(sorted(os.listdir(DATA_PATH))):\n",
    "    if path.endswith(\"_image.nii.gz\"):\n",
    "        # image : nib.Nifti1Image = nib.load(os.path.join(DATA_PATH, path))\n",
    "        # image = image.get_fdata()\n",
    "        # image = zoom(image, target_shape=target_shape, order=3)\n",
    "        \n",
    "        match = re.search(r'\\d+', path); idx = match.group()\n",
    "        image_path = os.path.join(DATASET_PATH, f\"ct_xiaoweixumedicalai_{idx}_image.npy\")\n",
    "        image_paths.append(image_path)\n",
    "        \n",
    "        # np.save(image_path, image)\n",
    "    \n",
    "    if path.endswith(\"label.nii.gz\"):\n",
    "        # label : nib.Nifti1Image = nib.load(os.path.join(DATA_PATH, path))\n",
    "        # label = label.get_fdata()\n",
    "        # label = zoom(label, target_shape=target_shape, order=0)\n",
    "        \n",
    "        match = re.search(r'\\d+', path); idx = match.group()\n",
    "        label_path = os.path.join(DATASET_PATH, f\"ct_xiaoweixumedicalai_{idx}_label.npy\")\n",
    "        label_paths.append(label_path)\n",
    "        \n",
    "        # np.save(label_path, label)\n",
    "    \n",
    "for image_path, label_path in zip(image_paths, label_paths):\n",
    "    data.append({\"image\": image_path,\n",
    "                            \"label\": label_path,\n",
    "                            \"label_map\": {\n",
    "                                \"background\": {\"color\": \"black\", \"value\": [0.0]},\n",
    "                                \"left ventricle\": {\"color\": \"yellow\", \"value\": [1.0]},\n",
    "                                \"right ventricle\": {\"color\": \"skyblue\", \"value\": [2.0]},\n",
    "                                \"left atrium\": {\"color\": \"red\", \"value\": [3.0]},\n",
    "                                \"right atrium\": {\"color\": \"purple\", \"value\": [4.0]},\n",
    "                                \"myocarium\": {\"color\": \"blue\", \"value\": [5.0]},\n",
    "                                \"aorta\": {\"color\": \"orange\", \"value\": [6.0]},\n",
    "                                \"pulmonary artery\": {\"color\": \"green\", \"value\": [7.0]},\n",
    "                                \"whole heart\": { \"color\": \"white\", \"value\": [1.0, 2.0, 3.0, 4.0, 5.0] },\n",
    "                            }})"
   ]
  },
  {
   "cell_type": "code",
   "execution_count": 7,
   "metadata": {},
   "outputs": [],
   "source": [
    "from heart_seg_app.utils.dataset import split_dataset\n",
    "from heart_seg_app.utils.config import save_config\n",
    "\n",
    "split_ratios = (0.75, 0.2, 0.05)\n",
    "seed = 0\n",
    "\n",
    "splited_dataset = split_dataset(data, split_ratios=split_ratios, seed=seed)\n",
    "\n",
    "dataset[\"train\"] += splited_dataset[\"train\"]\n",
    "dataset[\"val\"] += splited_dataset[\"val\"]\n",
    "dataset[\"test\"] += splited_dataset[\"test\"]\n",
    "dataset[\"size\"] += len(data)\n",
    "\n",
    "save_config(dataset, os.path.join(DATASET_PATH, \"dataset.json\"))"
   ]
  },
  {
   "cell_type": "markdown",
   "metadata": {},
   "source": [
    "## Train Models"
   ]
  },
  {
   "cell_type": "code",
   "execution_count": 41,
   "metadata": {},
   "outputs": [
    {
     "data": {
      "text/plain": [
       "{'background': {'color': 'black', 'value': [0.0]},\n",
       " 'left ventricle': {'color': 'yellow', 'value': [1.0]},\n",
       " 'right ventricle': {'color': 'skyblue', 'value': [2.0]},\n",
       " 'left atrium': {'color': 'red', 'value': [3.0]},\n",
       " 'right atrium': {'color': 'purple', 'value': [4.0]},\n",
       " 'myocarium': {'color': 'blue', 'value': [5.0]},\n",
       " 'aorta': {'color': 'orange', 'value': [6.0]},\n",
       " 'pulmonary artery': {'color': 'green', 'value': [7.0]},\n",
       " 'whole heart': {'color': 'white', 'value': [1.0, 2.0, 3.0, 4.0, 5.0]}}"
      ]
     },
     "execution_count": 41,
     "metadata": {},
     "output_type": "execute_result"
    }
   ],
   "source": [
    "import os\n",
    "import torch\n",
    "\n",
    "from tqdm.notebook import tqdm\n",
    "\n",
    "from heart_seg_app.utils.config import load_config\n",
    "\n",
    "ROOT_DIR = \"/home/cayetana/Storage/code/cayetana-best/heart-segmentation\"\n",
    "DATASET_PATH = \"data/CT_HD_united_lamiax\"\n",
    "os.chdir(ROOT_DIR)\n",
    "\n",
    "dataset = load_config(os.path.join(DATASET_PATH, \"dataset.json\"))\n",
    "\n",
    "dataset[\"val\"][4][\"label_map\"]"
   ]
  },
  {
   "cell_type": "code",
   "execution_count": 2,
   "metadata": {},
   "outputs": [],
   "source": [
    "from monai.transforms import (\n",
    "    Compose, LoadImaged, EnsureChannelFirstd, EnsureTyped, MapTransform,\n",
    "    Spacingd, NormalizeIntensityd\n",
    ")\n",
    "from monai.data import Dataset, NumpyReader, DataLoader\n",
    "\n",
    "class ToOneHotExtendedd(MapTransform):\n",
    "    def __init__(self, keys):\n",
    "        super().__init__(keys)\n",
    "\n",
    "    def __call__(self, data):\n",
    "        d = dict(data)\n",
    "        for key in self.keys:\n",
    "            label = d[key]\n",
    "            processed_label = torch.zeros((len(d[\"label_map\"].keys()), *label.shape), dtype=torch.float32)\n",
    "            for i, meta_data in enumerate(d[\"label_map\"].values()):\n",
    "                value = meta_data[\"value\"]\n",
    "                for v in value:\n",
    "                    processed_label[i] = torch.logical_or(processed_label[i], torch.where(label == v, 1.0, 0.0))\n",
    "            d[key] = processed_label\n",
    "        \n",
    "        return d\n",
    "\n",
    "\n",
    "val_transforms = Compose([\n",
    "    LoadImaged(keys=[\"image\", \"label\"], reader=NumpyReader),\n",
    "    EnsureChannelFirstd(keys=[\"image\"]),\n",
    "    EnsureTyped(keys=[\"image\", \"label\"]),\n",
    "    ToOneHotExtendedd(keys=[\"label\"]),\n",
    "    Spacingd(keys=[\"image\", \"label\"], pixdim=(1.0, 1.0, 1.0), mode=(\"bilinear\", \"nearest\")),\n",
    "    NormalizeIntensityd(keys=[\"image\"], channel_wise=True),   \n",
    "])\n",
    "\n",
    "val_dataset = Dataset(dataset[\"val\"], transform=val_transforms)\n",
    "val_dataloader = DataLoader(val_dataset, batch_size=1)"
   ]
  },
  {
   "cell_type": "markdown",
   "metadata": {},
   "source": [
    "## Training Loop"
   ]
  },
  {
   "cell_type": "code",
   "execution_count": 3,
   "metadata": {},
   "outputs": [],
   "source": [
    "from monai.losses import DiceLoss\n",
    "\n",
    "class PerChannelDiceLoss(torch.nn.Module):\n",
    "    def __init__ (self, **kwargs):\n",
    "        super().__init__()\n",
    "        self.dice_loss = DiceLoss(**kwargs)\n",
    "        \n",
    "    def forward(self, predictions, targets, mask):\n",
    "        channels = predictions.shape[1]\n",
    "        \n",
    "        losses = []\n",
    "        \n",
    "        for c in range(channels):\n",
    "            if mask[c]:\n",
    "                pred_c = predictions[:, c:c+1, ...]\n",
    "                target_c = targets[:, c:c+1, ...]\n",
    "                \n",
    "                loss_c = self.dice_loss(pred_c, target_c)\n",
    "                losses.append(loss_c)\n",
    "                \n",
    "        return sum(losses) / len(losses)\n",
    "\n",
    "from monai.networks.nets import UNETR\n",
    "\n",
    "def create_active_classes_mask(label_map : dict):\n",
    "    active_classes_mask = torch.zeros(len(label_map.keys()))\n",
    "\n",
    "    for i, class_meta in enumerate(label_map.values()):\n",
    "        if len(class_meta[\"value\"]):\n",
    "            active_classes_mask[i] = 1\n",
    "            \n",
    "    return active_classes_mask\n",
    "\n",
    "device = torch.device(\"cuda\" if torch.cuda.is_available() else \"cpu\")\n",
    "\n",
    "model = UNETR(\n",
    "    in_channels=1,\n",
    "    out_channels=9,\n",
    "    img_size=(128, 128, 128),\n",
    "    feature_size=16,\n",
    "    hidden_size=768,\n",
    "    mlp_dim=3072,\n",
    "    num_heads=12,\n",
    "    proj_type=\"perceptron\",\n",
    "    norm_name=\"instance\",\n",
    "    res_block=True,\n",
    "    dropout_rate=0.0,\n",
    ")\n",
    "# checkpoint = \"./runs/checkpoints/dice-ce-loss-run.pth\"\n",
    "# model.load_state_dict(torch.load(os.path.join(checkpoint), weights_only=True))\n",
    "model = model.to(device)\n",
    "model.train()\n",
    "\n",
    "# loss_function = MaskedDiceLoss(smooth_nr=0, smooth_dr=1e-5, squared_pred=True, sigmoid=True)\n",
    "loss_function = PerChannelDiceLoss(smooth_nr=0, smooth_dr=1e-5, squared_pred=True, sigmoid=True)\n",
    "optimizer = torch.optim.AdamW(model.parameters())"
   ]
  },
  {
   "cell_type": "code",
   "execution_count": 4,
   "metadata": {},
   "outputs": [],
   "source": [
    "import matplotlib.colors\n",
    "import matplotlib.pyplot as plt\n",
    "from torchvision.utils import make_grid\n",
    "\n",
    "import numpy as np\n",
    "from PIL import Image\n",
    "\n",
    "def create_custom_cmap_extended(label_map : dict):\n",
    "    pixel_values = [np.array(value[\"value\"][0])[0] for value in label_map.values() if len(value[\"value\"])]\n",
    "    colors = [value[\"color\"][0] for value in label_map.values()]\n",
    "    \n",
    "    if len(pixel_values) < 3:\n",
    "        return matplotlib.colors.ListedColormap(list(colors), N=len(colors)).with_extremes(under='black', over='white'), None\n",
    "    \n",
    "    mid_bounds = [(pixel_values[i] + pixel_values[i+1]) / 2 for i in range(len(pixel_values)-1)]\n",
    "    custom_cmap = matplotlib.colors.ListedColormap(list(colors)[1:], N=len(colors)).with_extremes(under='black', over='green')\n",
    "    norm = matplotlib.colors.BoundaryNorm(mid_bounds, custom_cmap.N - 2)\n",
    "    return custom_cmap, norm\n",
    "\n",
    "def apply_cmap_to_tensor(tensor : torch.Tensor, cmap : matplotlib.colors.Colormap, norm : matplotlib.colors.Normalize = None):\n",
    "    tensor = tensor.cpu().numpy()\n",
    "    if norm is not None:\n",
    "        tensor = norm(tensor)\n",
    "    tensor = cmap(tensor) # it converts tensor to numpy rgba image with hwc format, .astype(np.float32)\n",
    "    tensor = torch.from_numpy(tensor)\n",
    "    tensor = tensor[:,:,:3] # delete alpha channel\n",
    "    tensor = tensor.permute(2, 0, 1) # hwc -> chw\n",
    "    \n",
    "    return tensor\n",
    "\n",
    "def make_grid_image_extended(mode : str, image : torch.Tensor, label : torch.Tensor, prediction : torch.Tensor, label_map : dict, idx):\n",
    "        bone_cmap = plt.get_cmap(\"bone\")\n",
    "\n",
    "        whs_label_map = dict(list(label_map.items())[:8])\n",
    "        whs_cmap, whs_norm = create_custom_cmap_extended(whs_label_map)\n",
    "\n",
    "        heart_label_map = dict(list(label_map.items())[:1] + list(label_map.items())[8:])\n",
    "        heart_cmap, heart_norm = create_custom_cmap_extended(heart_label_map)\n",
    "\n",
    "        image = image.squeeze().cpu() # delete batch\n",
    "        image = apply_cmap_to_tensor(image[:,:,idx].T, bone_cmap)\n",
    "        \n",
    "        whs_label = label.squeeze().cpu() # delete batch\n",
    "        whs_label = torch.argmax(whs_label[:8], dim=0)\n",
    "        whs_label = apply_cmap_to_tensor(whs_label[:,:,idx].T, whs_cmap, whs_norm)\n",
    "        \n",
    "        heart_label = torch.concat((label[:1], label[8:])).squeeze().cpu() # delete batch\n",
    "        heart_label = torch.argmax(heart_label, dim=0)\n",
    "        heart_label = apply_cmap_to_tensor(heart_label[:,:,idx].T, heart_cmap, heart_norm)\n",
    "        \n",
    "        whs_pred = prediction[:8].squeeze().float().cpu() # delete batch\n",
    "        whs_pred = torch.argmax(whs_pred, dim=0)\n",
    "        whs_pred = apply_cmap_to_tensor(whs_pred[:,:,idx].T, whs_cmap, whs_norm)\n",
    "\n",
    "        heart_pred = torch.concat((prediction[:1], prediction[8:])).squeeze().float().cpu() # delete batch\n",
    "        heart_pred = torch.argmax(heart_pred, dim=0)\n",
    "        heart_pred = apply_cmap_to_tensor(heart_pred[:,:,idx].T, heart_cmap, heart_norm)\n",
    "        \n",
    "        img_grid = make_grid([image, whs_label, heart_label, whs_pred, heart_pred])\n",
    "        if mode == \"tensorboard\":\n",
    "            return img_grid\n",
    "        if mode == \"eval\":\n",
    "            img_grid = Image.fromarray((img_grid.permute(1, 2, 0).numpy() * 255).astype(\"uint8\"))\n",
    "        \n",
    "        return img_grid"
   ]
  },
  {
   "cell_type": "code",
   "execution_count": 48,
   "metadata": {},
   "outputs": [],
   "source": [
    "def postprocess_outputs_extended(outputs: torch.Tensor, label_values, indices: list):\n",
    "    selected_outputs = torch.cat([outputs[i].unsqueeze(0) for i in indices], dim=0)\n",
    "    segmented = torch.softmax(selected_outputs, dim=0).argmax(dim=0)  # 128, 128, 128\n",
    "    \n",
    "    return (segmented[None, ...] == torch.tensor(label_values, device=segmented.device)[:, None, None, None]).int()\n",
    "\n",
    "for batch in val_dataloader:\n",
    "    inputs, targets = batch[\"image\"].to(device), batch[\"label\"].to(device)\n",
    "    outputs = model(inputs)\n",
    "    \n",
    "    outputs = outputs.as_tensor()\n",
    "    targets = targets.as_tensor()\n",
    "    outputs = outputs.squeeze()\n",
    "    targets = targets.squeeze().int()\n",
    "    \n",
    "    \n",
    "    label_map = batch[\"label_map\"]\n",
    "    \n",
    "    label_values = [np.array(v[\"value\"])[0][0] if len(v[\"value\"]) else 0.0 for v in label_map.values()]\n",
    "    whs_outputs = postprocess_outputs_extended(outputs, list(range(len(label_map.keys())))[:8], indices=list(range(8)))\n",
    "    heart_outputs = postprocess_outputs_extended(outputs, label_values[:1] + label_values[8:], indices=[0, 8])[1].unsqueeze(0)\n",
    "    processed_outputs = torch.concat((whs_outputs, heart_outputs))\n",
    "    \n",
    "    img_grid = make_grid_image_extended(\"eval\", inputs, targets, processed_outputs, batch[\"label_map\"], 50)\n",
    "    \n",
    "    # del whs_outputs, heart_outputs, processed_outputs\n",
    "    # whs_result = torch.zeros(size=(8, 128, 128, 128), dtype=torch.float32, device=\"cuda\")\n",
    "    # whs_outputs = outputs.squeeze(0)[:8]\n",
    "    # whs_outputs = torch.softmax(whs_outputs, dim=0).argmax(dim=0) # 128, 128, 128\n",
    "    # label_map = batch[\"label_map\"]\n",
    "    # whs_label_values = list(range(len(label_map.keys())))[:8]\n",
    "    # for i, value in enumerate(whs_label_values):\n",
    "    #     whs_result[i] = torch.where(whs_outputs == value, 1, 0)\n",
    "    \n",
    "    \n",
    "    # heart_result = torch.zeros(size=(2, 128, 128, 128), dtype=torch.float32, device=\"cuda\")\n",
    "    # heart_outputs = outputs.squeeze(0)\n",
    "    # heart_outputs = torch.concat((heart_outputs[:1], heart_outputs[8:]))\n",
    "    # heart_outputs = torch.softmax(heart_outputs, dim=0).argmax(dim=0) # 128, 128, 128\n",
    "    # label_map = batch[\"label_map\"]\n",
    "    # heart_label_values = [value[\"value\"][0].item() for value in label_map.values() if len(value[\"value\"])]\n",
    "    # for i, value in enumerate(heart_label_values):\n",
    "    #     heart_result[i] = torch.where(heart_outputs == value, 1, 0)\n",
    "    \n",
    "    \n",
    "    # del whs_outputs, heart_outputs\n",
    "    # del whs_result, heart_result\n",
    "    break\n",
    "    # print(whs_outputs.shape, whs_outputs.min(), whs_outputs.max())\n",
    "    \n",
    "    \n",
    "    # processed_label = torch.zeros(size=(9, 128, 128, 128), dtype=torch.int32, device=\"cuda\")"
   ]
  },
  {
   "cell_type": "code",
   "execution_count": 49,
   "metadata": {},
   "outputs": [
    {
     "data": {
      "text/plain": [
       "<matplotlib.image.AxesImage at 0x72cee975f9d0>"
      ]
     },
     "execution_count": 49,
     "metadata": {},
     "output_type": "execute_result"
    },
    {
     "data": {
      "image/png": "[encoded data removed]",
      "text/plain": [
       "<Figure size 640x480 with 1 Axes>"
      ]
     },
     "metadata": {},
     "output_type": "display_data"
    }
   ],
   "source": [
    "plt.imshow(img_grid)"
   ]
  },
  {
   "cell_type": "code",
   "execution_count": 47,
   "metadata": {},
   "outputs": [
    {
     "data": {
      "application/vnd.jupyter.widget-view+json": {
       "model_id": "12e310fc43cc4c7c8b879c93a0d955e1",
       "version_major": 2,
       "version_minor": 0
      },
      "text/plain": [
       "  0%|          | 0/16 [00:00<?, ?it/s]"
      ]
     },
     "metadata": {},
     "output_type": "display_data"
    },
    {
     "data": {
      "application/vnd.jupyter.widget-view+json": {
       "model_id": "388144b318a9473e8e3de462cc9f4893",
       "version_major": 2,
       "version_minor": 0
      },
      "text/plain": [
       "  0%|          | 0/16 [00:00<?, ?it/s]"
      ]
     },
     "metadata": {},
     "output_type": "display_data"
    },
    {
     "name": "stdout",
     "output_type": "stream",
     "text": [
      "1/15: train_loss=0.71984, train_mean_dice=0.15034 by classes:  ['0.71975', '0.000727', '0.0', '0.005192', '0.044979', '0.0', '9.9549e-05', '0.031516', '0.55083']\n",
      "1/15: val_loss=11.347, val_mean_dice=0.14554 by classes:  ['0.72378', '1.7177e-05', '0.0', '0.0013505', '0.050674', '0.0', '4.6906e-05', '0.045111', '0.48888']\n"
     ]
    },
    {
     "data": {
      "application/vnd.jupyter.widget-view+json": {
       "model_id": "4d7d8ab5e198434abca8610d91e8d3d8",
       "version_major": 2,
       "version_minor": 0
      },
      "text/plain": [
       "  0%|          | 0/16 [00:00<?, ?it/s]"
      ]
     },
     "metadata": {},
     "output_type": "display_data"
    },
    {
     "data": {
      "application/vnd.jupyter.widget-view+json": {
       "model_id": "34057768ec5640909d69c1eb8b340c32",
       "version_major": 2,
       "version_minor": 0
      },
      "text/plain": [
       "  0%|          | 0/16 [00:00<?, ?it/s]"
      ]
     },
     "metadata": {},
     "output_type": "display_data"
    },
    {
     "name": "stdout",
     "output_type": "stream",
     "text": [
      "2/15: train_loss=0.70181, train_mean_dice=0.15222 by classes:  ['0.73828', '0.0', '0.0', '0.00038684', '0.053422', '0.0', '5.3302e-05', '0.032016', '0.54586']\n",
      "2/15: val_loss=11.023, val_mean_dice=0.15582 by classes:  ['0.75477', '0.0', '0.0', '2.1639e-05', '0.054209', '0.0', '0.0', '0.035185', '0.5582']\n"
     ]
    },
    {
     "data": {
      "application/vnd.jupyter.widget-view+json": {
       "model_id": "812c00359a584a8e8e3a2aa8eb390191",
       "version_major": 2,
       "version_minor": 0
      },
      "text/plain": [
       "  0%|          | 0/16 [00:00<?, ?it/s]"
      ]
     },
     "metadata": {},
     "output_type": "display_data"
    },
    {
     "data": {
      "application/vnd.jupyter.widget-view+json": {
       "model_id": "5ff22631dd7d42639bc1b77766facee4",
       "version_major": 2,
       "version_minor": 0
      },
      "text/plain": [
       "  0%|          | 0/16 [00:00<?, ?it/s]"
      ]
     },
     "metadata": {},
     "output_type": "display_data"
    },
    {
     "name": "stdout",
     "output_type": "stream",
     "text": [
      "3/15: train_loss=0.68445, train_mean_dice=0.16129 by classes:  ['0.81548', '0.0', '0.0', '0.0', '0.078706', '0.0', '0.0', '0.020368', '0.53707']\n",
      "3/15: val_loss=10.775, val_mean_dice=0.18111 by classes:  ['0.94126', '0.0', '0.0', '0.0', '0.13253', '0.0', '0.0', '0.017758', '0.53843']\n"
     ]
    },
    {
     "data": {
      "application/vnd.jupyter.widget-view+json": {
       "model_id": "50c73e9280214aa59cfb9582c59ea791",
       "version_major": 2,
       "version_minor": 0
      },
      "text/plain": [
       "  0%|          | 0/16 [00:00<?, ?it/s]"
      ]
     },
     "metadata": {},
     "output_type": "display_data"
    },
    {
     "data": {
      "application/vnd.jupyter.widget-view+json": {
       "model_id": "635e326ceebf4038b816269dedec2575",
       "version_major": 2,
       "version_minor": 0
      },
      "text/plain": [
       "  0%|          | 0/16 [00:00<?, ?it/s]"
      ]
     },
     "metadata": {},
     "output_type": "display_data"
    },
    {
     "name": "stdout",
     "output_type": "stream",
     "text": [
      "4/15: train_loss=0.66817, train_mean_dice=0.17725 by classes:  ['0.96362', '0.0', '0.0', '0.0', '0.17411', '0.0', '0.0', '0.00028763', '0.45724']\n",
      "4/15: val_loss=10.72, val_mean_dice=0.1936 by classes:  ['0.97735', '0.0', '0.0', '0.0', '0.20585', '0.0', '0.0', '8.6298e-05', '0.55908']\n"
     ]
    },
    {
     "data": {
      "application/vnd.jupyter.widget-view+json": {
       "model_id": "c9d9b5484cf04feab9e18c5f0b077ff7",
       "version_major": 2,
       "version_minor": 0
      },
      "text/plain": [
       "  0%|          | 0/16 [00:00<?, ?it/s]"
      ]
     },
     "metadata": {},
     "output_type": "display_data"
    },
    {
     "data": {
      "application/vnd.jupyter.widget-view+json": {
       "model_id": "8c50b47fb91d4bb4a1a4d0fa73f36c27",
       "version_major": 2,
       "version_minor": 0
      },
      "text/plain": [
       "  0%|          | 0/16 [00:00<?, ?it/s]"
      ]
     },
     "metadata": {},
     "output_type": "display_data"
    },
    {
     "name": "stdout",
     "output_type": "stream",
     "text": [
      "5/15: train_loss=0.65798, train_mean_dice=0.18499 by classes:  ['0.97599', '0.0', '0.0', '0.0', '0.17509', '0.0', '0.0', '0.0', '0.51384']\n",
      "5/15: val_loss=10.3, val_mean_dice=0.18165 by classes:  ['0.97916', '0.0', '0.0', '0.0', '0.20113', '0.0', '0.0', '0.0', '0.45459']\n"
     ]
    },
    {
     "data": {
      "application/vnd.jupyter.widget-view+json": {
       "model_id": "78e95c651e944ef7829383c17e3580af",
       "version_major": 2,
       "version_minor": 0
      },
      "text/plain": [
       "  0%|          | 0/16 [00:00<?, ?it/s]"
      ]
     },
     "metadata": {},
     "output_type": "display_data"
    },
    {
     "data": {
      "application/vnd.jupyter.widget-view+json": {
       "model_id": "16f218f701494a7ea02b8d491ca9ccc4",
       "version_major": 2,
       "version_minor": 0
      },
      "text/plain": [
       "  0%|          | 0/16 [00:00<?, ?it/s]"
      ]
     },
     "metadata": {},
     "output_type": "display_data"
    },
    {
     "name": "stdout",
     "output_type": "stream",
     "text": [
      "6/15: train_loss=0.63765, train_mean_dice=0.19273 by classes:  ['0.97735', '0.0', '0.0', '0.0', '0.1748', '0.0', '0.0', '0.0', '0.58241']\n",
      "6/15: val_loss=9.9563, val_mean_dice=0.19882 by classes:  ['0.9812', '0.0', '0.0', '0.0', '0.2099', '0.0', '0.0', '0.0', '0.59825']\n"
     ]
    },
    {
     "data": {
      "application/vnd.jupyter.widget-view+json": {
       "model_id": "42f933029c994057a02d6188f3d5d1ae",
       "version_major": 2,
       "version_minor": 0
      },
      "text/plain": [
       "  0%|          | 0/16 [00:00<?, ?it/s]"
      ]
     },
     "metadata": {},
     "output_type": "display_data"
    },
    {
     "data": {
      "application/vnd.jupyter.widget-view+json": {
       "model_id": "ad5439372bc74a839c67ce8083dfa2b3",
       "version_major": 2,
       "version_minor": 0
      },
      "text/plain": [
       "  0%|          | 0/16 [00:00<?, ?it/s]"
      ]
     },
     "metadata": {},
     "output_type": "display_data"
    },
    {
     "name": "stdout",
     "output_type": "stream",
     "text": [
      "7/15: train_loss=0.61814, train_mean_dice=0.19589 by classes:  ['0.97881', '0.0', '0.0', '0.0', '0.18338', '0.0', '0.0', '0.0', '0.60079']\n",
      "7/15: val_loss=9.7362, val_mean_dice=0.19576 by classes:  ['0.97738', '0.0', '0.0', '0.0', '0.15111', '0.0', '0.0', '0.0', '0.63333']\n"
     ]
    },
    {
     "data": {
      "application/vnd.jupyter.widget-view+json": {
       "model_id": "c14e53d80c4f417e90a3d005810cfe8a",
       "version_major": 2,
       "version_minor": 0
      },
      "text/plain": [
       "  0%|          | 0/16 [00:00<?, ?it/s]"
      ]
     },
     "metadata": {},
     "output_type": "display_data"
    },
    {
     "data": {
      "application/vnd.jupyter.widget-view+json": {
       "model_id": "5d7139e6952f4fa883e8ffc53a35e4c1",
       "version_major": 2,
       "version_minor": 0
      },
      "text/plain": [
       "  0%|          | 0/16 [00:00<?, ?it/s]"
      ]
     },
     "metadata": {},
     "output_type": "display_data"
    },
    {
     "name": "stdout",
     "output_type": "stream",
     "text": [
      "8/15: train_loss=0.59863, train_mean_dice=0.20123 by classes:  ['0.979', '0.0', '0.0', '5.8387e-06', '0.18681', '0.0', '0.0', '0.0', '0.64528']\n",
      "8/15: val_loss=9.2878, val_mean_dice=0.19883 by classes:  ['0.98116', '0.0', '0.0', '8.6739e-06', '0.17739', '0.0', '0.0', '3.4585e-05', '0.63086']\n"
     ]
    },
    {
     "data": {
      "application/vnd.jupyter.widget-view+json": {
       "model_id": "0aee1200d6fb480ea066bb125fb506ba",
       "version_major": 2,
       "version_minor": 0
      },
      "text/plain": [
       "  0%|          | 0/16 [00:00<?, ?it/s]"
      ]
     },
     "metadata": {},
     "output_type": "display_data"
    },
    {
     "data": {
      "application/vnd.jupyter.widget-view+json": {
       "model_id": "64bd9ca476c24807a8519aad1dfd8982",
       "version_major": 2,
       "version_minor": 0
      },
      "text/plain": [
       "  0%|          | 0/16 [00:00<?, ?it/s]"
      ]
     },
     "metadata": {},
     "output_type": "display_data"
    },
    {
     "name": "stdout",
     "output_type": "stream",
     "text": [
      "9/15: train_loss=0.58764, train_mean_dice=0.19711 by classes:  ['0.9781', '0.0', '0.0', '0.0', '0.15811', '0.0', '0.0', '0.00059445', '0.63719']\n",
      "9/15: val_loss=9.1746, val_mean_dice=0.20218 by classes:  ['0.9797', '0.0', '0.0', '0.0', '0.19951', '0.0', '0.0', '0.0024783', '0.63796']\n"
     ]
    },
    {
     "data": {
      "application/vnd.jupyter.widget-view+json": {
       "model_id": "5ec7feb7f03c4f1189ee70f22e326a15",
       "version_major": 2,
       "version_minor": 0
      },
      "text/plain": [
       "  0%|          | 0/16 [00:00<?, ?it/s]"
      ]
     },
     "metadata": {},
     "output_type": "display_data"
    },
    {
     "data": {
      "application/vnd.jupyter.widget-view+json": {
       "model_id": "a45e32d5029c4665b3df70b559edbbf9",
       "version_major": 2,
       "version_minor": 0
      },
      "text/plain": [
       "  0%|          | 0/16 [00:00<?, ?it/s]"
      ]
     },
     "metadata": {},
     "output_type": "display_data"
    },
    {
     "name": "stdout",
     "output_type": "stream",
     "text": [
      "10/15: train_loss=0.56887, train_mean_dice=0.19705 by classes:  ['0.97908', '0.0', '0.0', '0.0', '0.17855', '0.0', '0.0', '0.0', '0.61584']\n",
      "10/15: val_loss=8.8159, val_mean_dice=0.20145 by classes:  ['0.98069', '0.0', '0.0', '0.0', '0.18389', '0.0', '0.0', '0.0', '0.64851']\n"
     ]
    },
    {
     "data": {
      "application/vnd.jupyter.widget-view+json": {
       "model_id": "e188602e91f148a2a1416609a01b5fb3",
       "version_major": 2,
       "version_minor": 0
      },
      "text/plain": [
       "  0%|          | 0/16 [00:00<?, ?it/s]"
      ]
     },
     "metadata": {},
     "output_type": "display_data"
    },
    {
     "data": {
      "application/vnd.jupyter.widget-view+json": {
       "model_id": "b130592fa3a4488787bfd0cbb057eac6",
       "version_major": 2,
       "version_minor": 0
      },
      "text/plain": [
       "  0%|          | 0/16 [00:00<?, ?it/s]"
      ]
     },
     "metadata": {},
     "output_type": "display_data"
    },
    {
     "name": "stdout",
     "output_type": "stream",
     "text": [
      "11/15: train_loss=0.55577, train_mean_dice=0.19894 by classes:  ['0.97927', '0.0', '0.0', '0.0', '0.18315', '1.7832e-06', '0.0', '0.0', '0.62807']\n",
      "11/15: val_loss=8.6789, val_mean_dice=0.2056 by classes:  ['0.98023', '0.0', '0.0', '0.0', '0.22016', '8.5509e-06', '0.0', '0.0', '0.65003']\n"
     ]
    },
    {
     "data": {
      "application/vnd.jupyter.widget-view+json": {
       "model_id": "e4a9514e07d24c07a18d5886d09bbce1",
       "version_major": 2,
       "version_minor": 0
      },
      "text/plain": [
       "  0%|          | 0/16 [00:00<?, ?it/s]"
      ]
     },
     "metadata": {},
     "output_type": "display_data"
    },
    {
     "data": {
      "application/vnd.jupyter.widget-view+json": {
       "model_id": "367df4912faa4c2684b596425906f83c",
       "version_major": 2,
       "version_minor": 0
      },
      "text/plain": [
       "  0%|          | 0/16 [00:00<?, ?it/s]"
      ]
     },
     "metadata": {},
     "output_type": "display_data"
    },
    {
     "name": "stdout",
     "output_type": "stream",
     "text": [
      "12/15: train_loss=0.5582, train_mean_dice=0.19794 by classes:  ['0.9776', '0.0', '0.0', '0.0', '0.20229', '5.1314e-05', '0.0', '0.0', '0.6015']\n",
      "12/15: val_loss=8.6064, val_mean_dice=0.19615 by classes:  ['0.97935', '0.0', '0.0', '0.0', '0.18414', '0.00048748', '0.0', '0.0', '0.60138']\n"
     ]
    },
    {
     "data": {
      "application/vnd.jupyter.widget-view+json": {
       "model_id": "ac8a57d6b7844569a5ab628793ffa750",
       "version_major": 2,
       "version_minor": 0
      },
      "text/plain": [
       "  0%|          | 0/16 [00:00<?, ?it/s]"
      ]
     },
     "metadata": {},
     "output_type": "display_data"
    },
    {
     "data": {
      "application/vnd.jupyter.widget-view+json": {
       "model_id": "e71d0eed31ff49f3a54fc44e8e673d6d",
       "version_major": 2,
       "version_minor": 0
      },
      "text/plain": [
       "  0%|          | 0/16 [00:00<?, ?it/s]"
      ]
     },
     "metadata": {},
     "output_type": "display_data"
    },
    {
     "name": "stdout",
     "output_type": "stream",
     "text": [
      "13/15: train_loss=0.53683, train_mean_dice=0.20245 by classes:  ['0.97981', '0.0', '0.0', '0.0', '0.19524', '0.029565', '0.0', '0.0', '0.61747']\n",
      "13/15: val_loss=9.1122, val_mean_dice=0.19095 by classes:  ['0.97724', '0.0', '0.0', '0.0', '0.23783', '0.007036', '0.0', '0.0', '0.49648']\n"
     ]
    },
    {
     "data": {
      "application/vnd.jupyter.widget-view+json": {
       "model_id": "6df16649b00642c3ba5eff3f1fd2d3ed",
       "version_major": 2,
       "version_minor": 0
      },
      "text/plain": [
       "  0%|          | 0/16 [00:00<?, ?it/s]"
      ]
     },
     "metadata": {},
     "output_type": "display_data"
    },
    {
     "data": {
      "application/vnd.jupyter.widget-view+json": {
       "model_id": "ea316ab33cbd444d8f562572d468d8ae",
       "version_major": 2,
       "version_minor": 0
      },
      "text/plain": [
       "  0%|          | 0/16 [00:00<?, ?it/s]"
      ]
     },
     "metadata": {},
     "output_type": "display_data"
    },
    {
     "name": "stdout",
     "output_type": "stream",
     "text": [
      "14/15: train_loss=0.52279, train_mean_dice=0.21238 by classes:  ['0.9786', '0.0', '0.0', '0.0', '0.19204', '0.12177', '0.0', '0.0', '0.61901']\n",
      "14/15: val_loss=8.1485, val_mean_dice=0.21569 by classes:  ['0.97586', '0.0', '0.0', '0.0', '0.16299', '0.23055', '0.0', '0.0', '0.57182']\n"
     ]
    },
    {
     "data": {
      "application/vnd.jupyter.widget-view+json": {
       "model_id": "3d467087a8dd452d8f210d1194de55bd",
       "version_major": 2,
       "version_minor": 0
      },
      "text/plain": [
       "  0%|          | 0/16 [00:00<?, ?it/s]"
      ]
     },
     "metadata": {},
     "output_type": "display_data"
    },
    {
     "data": {
      "application/vnd.jupyter.widget-view+json": {
       "model_id": "d59e4d77d586494b9178540fc47306b4",
       "version_major": 2,
       "version_minor": 0
      },
      "text/plain": [
       "  0%|          | 0/16 [00:00<?, ?it/s]"
      ]
     },
     "metadata": {},
     "output_type": "display_data"
    },
    {
     "name": "stdout",
     "output_type": "stream",
     "text": [
      "15/15: train_loss=0.50273, train_mean_dice=0.25455 by classes:  ['0.98011', '0.064275', '0.0', '0.0', '0.23999', '0.35501', '0.0', '4.1639e-05', '0.65157']\n",
      "15/15: val_loss=7.6571, val_mean_dice=0.25801 by classes:  ['0.9798', '0.0019488', '0.0', '0.0', '0.24037', '0.40387', '0.0', '0.0', '0.69607']\n"
     ]
    },
    {
     "data": {
      "image/png": "[encoded data removed]",
      "text/plain": [
       "<Figure size 640x480 with 1 Axes>"
      ]
     },
     "metadata": {},
     "output_type": "display_data"
    }
   ],
   "source": [
    "from heart_seg_app.utils.metrics import Metrics\n",
    "\n",
    "epochs = 15\n",
    "for epoch in range(epochs):\n",
    "    model.train()\n",
    "    train_loss = 0\n",
    "    train_mean_dice = 0\n",
    "    train_mean_dice_by_classes = torch.zeros(9, device=device)\n",
    "    for batch in tqdm(val_dataloader):\n",
    "        inputs, targets = batch[\"image\"].to(device), batch[\"label\"].to(device)\n",
    "        outputs = model(inputs)\n",
    "        loss_mask = create_active_classes_mask(batch[\"label_map\"])\n",
    "        loss = loss_function(outputs, targets, mask=loss_mask)\n",
    "        loss.backward()\n",
    "        train_loss += loss.item()\n",
    "        optimizer.step()\n",
    "        optimizer.zero_grad()\n",
    "        \n",
    "        outputs = outputs.as_tensor()\n",
    "        targets = targets.as_tensor()\n",
    "        outputs = outputs.squeeze()\n",
    "        targets = targets.squeeze().int()\n",
    "        \n",
    "        # label_values = [np.array(v[\"value\"])[0][0] if len(v[\"value\"]) else 0.0 for v in label_map.values()]\n",
    "        whs_outputs = postprocess_outputs_extended(outputs, list(range(len(label_map.keys())))[:8], indices=list(range(8)))\n",
    "        heart_outputs = postprocess_outputs_extended(outputs, [0.0, 1.0], indices=[0, 8])[1].unsqueeze(0)\n",
    "        processed_outputs = torch.concat((whs_outputs, heart_outputs))\n",
    "        \n",
    "        metrics = Metrics(processed_outputs, targets)\n",
    "        mean_dice = metrics.meanDice().item()\n",
    "        dice_by_classes = metrics.Dice()\n",
    "        train_mean_dice += mean_dice\n",
    "        train_mean_dice_by_classes += dice_by_classes\n",
    "        \n",
    "    train_loss /= len(val_dataloader)\n",
    "    train_mean_dice /= len(val_dataloader)\n",
    "    train_mean_dice_by_classes /= len(val_dataloader)\n",
    "    \n",
    "    \n",
    "    with torch.no_grad():\n",
    "        model.eval()\n",
    "        val_loss = 0\n",
    "        val_mean_dice = 0\n",
    "        val_mean_dice_by_classes = torch.zeros(9, device=device)\n",
    "        for batch in tqdm(val_dataloader):\n",
    "            inputs, targets = batch[\"image\"].to(device), batch[\"label\"].to(device)\n",
    "            outputs = model(inputs)\n",
    "            loss_mask = create_active_classes_mask(batch[\"label_map\"])\n",
    "            loss = loss_function(outputs, targets, mask=loss_mask)  \n",
    "            val_loss += loss.item()\n",
    "            \n",
    "            outputs = outputs.as_tensor()\n",
    "            targets = targets.as_tensor()\n",
    "            outputs = outputs.squeeze()\n",
    "            targets = targets.squeeze().int()\n",
    "            \n",
    "            # label_values = [np.array(v[\"value\"])[0][0] if len(v[\"value\"]) else 0.0 for v in label_map.values()]\n",
    "            whs_outputs = postprocess_outputs_extended(outputs, list(range(len(label_map.keys())))[:8], indices=list(range(8)))\n",
    "            heart_outputs = postprocess_outputs_extended(outputs, [0.0, 1.0], indices=[0, 8])[1].unsqueeze(0)\n",
    "            processed_outputs = torch.concat((whs_outputs, heart_outputs))\n",
    "            \n",
    "            metrics = Metrics(processed_outputs, targets)\n",
    "            mean_dice = metrics.meanDice().item()\n",
    "            dice_by_classes = metrics.Dice()\n",
    "            val_mean_dice += mean_dice\n",
    "            val_mean_dice_by_classes += dice_by_classes\n",
    "        val_mean_dice /= len(val_dataloader)\n",
    "        val_mean_dice_by_classes /= len(val_dataloader)\n",
    "        print(f\"{epoch+1}/{epochs}: train_loss={train_loss:.5}, train_mean_dice={train_mean_dice:.5}\",\n",
    "                \"by classes: \", [f\"{elem:.5}\" for elem in train_mean_dice_by_classes])\n",
    "        print(f\"{epoch+1}/{epochs}: val_loss={val_loss:.5}, val_mean_dice={val_mean_dice:.5}\",\n",
    "                \"by classes: \", [f\"{elem:.5}\" for elem in val_mean_dice_by_classes])\n",
    "    \n",
    "        img_grid = make_grid_image_extended(\"eval\", inputs, targets, processed_outputs, batch[\"label_map\"], 50)\n",
    "    plt.imshow(img_grid)"
   ]
  }
 ],
 "metadata": {
  "kernelspec": {
   "display_name": "heart-segmentation",
   "language": "python",
   "name": "python3"
  },
  "language_info": {
   "codemirror_mode": {
    "name": "ipython",
    "version": 3
   },
   "file_extension": ".py",
   "mimetype": "text/x-python",
   "name": "python",
   "nbconvert_exporter": "python",
   "pygments_lexer": "ipython3",
   "version": "3.10.0"
  }
 },
 "nbformat": 4,
 "nbformat_minor": 2
}
